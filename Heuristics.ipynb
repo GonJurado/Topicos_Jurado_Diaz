{
 "cells": [
  {
   "cell_type": "markdown",
   "metadata": {},
   "source": [
    "SMALLEST DOMAIN HEURISTIC"
   ]
  },
  {
   "cell_type": "code",
   "execution_count": null,
   "metadata": {},
   "outputs": [],
   "source": [
    "def solve_hospital_assignment_with_heuristic(hosp_data, pat_data):\n",
    "    nHosp = len(hosp_data)\n",
    "    nPats = len(pat_data)\n",
    "    max_beds = hosp_data['Camas'].tolist()\n",
    "    hospital_coords = list(zip(hosp_data['Latitud'], hosp_data['Longitud']))\n",
    "    patient_coords = list(zip(pat_data['Latitud'], pat_data['Longitud']))\n",
    "    severities = pat_data['Severidad'].tolist()\n",
    "\n",
    "    model = cp_model.CpModel()\n",
    "\n",
    "    assignment = np.array([[model.NewBoolVar(f'x_{i}_{j}') for j in range(nPats)] for i in range(nHosp)])\n",
    "\n",
    "    # Smallest domain heuristic\n",
    "    all_vars = [assignment[i, j] for i in range(nHosp) for j in range(nPats)]\n",
    "    model.AddDecisionStrategy(all_vars, cp_model.CHOOSE_FIRST, cp_model.SELECT_MIN_VALUE)\n",
    "\n",
    "    for i in range(nHosp):\n",
    "        model.Add(sum(assignment[i]) <= max_beds[i])\n",
    "\n",
    "    for j in range(nPats):\n",
    "        model.Add(sum(assignment[:, j]) == 1)\n",
    "\n",
    "    total_distance = sum(\n",
    "        sum(assignment[i][j] * np.linalg.norm(np.array(hospital_coords[i]) - np.array(patient_coords[j])) for j in range(nPats))\n",
    "        for i in range(nHosp)\n",
    "    )\n",
    "\n",
    "    total_severity = sum(\n",
    "        cp_model.LinearExpr.WeightedSum(assignment[i], [severities[j] for j in range(nPats)])\n",
    "        for i in range(nHosp)\n",
    "    )\n",
    "\n",
    "    model.Minimize(total_distance + total_severity)\n",
    "\n",
    "    solver = cp_model.CpSolver()\n",
    "    status = solver.Solve(model)\n",
    "\n",
    "    if status == cp_model.OPTIMAL:\n",
    "        assignments = {\n",
    "            f'Hospital_{i}': [j for j in range(nPats) if solver.Value(assignment[i, j])]\n",
    "            for i in range(nHosp)\n",
    "        }\n",
    "        return assignments\n",
    "    else:\n",
    "        return None\n",
    "\n",
    "solution_with_heuristic = solve_hospital_assignment_with_heuristic(df, patients)"
   ]
  }
 ],
 "metadata": {
  "language_info": {
   "name": "python"
  }
 },
 "nbformat": 4,
 "nbformat_minor": 2
}
