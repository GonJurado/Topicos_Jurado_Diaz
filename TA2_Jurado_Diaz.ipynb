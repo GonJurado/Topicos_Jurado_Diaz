{
  "nbformat": 4,
  "nbformat_minor": 0,
  "metadata": {
    "colab": {
      "provenance": []
    },
    "kernelspec": {
      "name": "python3",
      "display_name": "Python 3"
    },
    "language_info": {
      "name": "python"
    }
  },
  "cells": [
    {
      "cell_type": "code",
      "source": [
        "!pip install ortools\n",
        "!pip install folium"
      ],
      "metadata": {
        "id": "eK6JAvF7tZSD"
      },
      "execution_count": null,
      "outputs": []
    },
    {
      "cell_type": "code",
      "source": [
        "import random\n",
        "import pandas as pd\n",
        "import numpy as np\n",
        "from ortools.sat.python import cp_model"
      ],
      "metadata": {
        "id": "ECdWulPBZ_XR"
      },
      "execution_count": 2,
      "outputs": []
    },
    {
      "cell_type": "code",
      "source": [
        "data = {\n",
        "    'Nombre': [\n",
        "        'Hospital Nacional Hipólito Unanue',\n",
        "        'Hospital Cayetano Heredia',\n",
        "        'Hospital Santa Rosa',\n",
        "        'Hospital Nacional Guillermo Almenara Irigoyen',\n",
        "        'Hospital Nacional Edgardo Rebagliati Martins',\n",
        "        'Clínica Ricardo Palma - Javier Prado Este',\n",
        "        'Clínica San Pablo - Sede Surco',\n",
        "        'Hospital Nacional Dos de Mayo',\n",
        "        'Hospital Nacional Sergio E. Bernales',\n",
        "        'Clínica Anglo Americana'\n",
        "    ]\n",
        "}\n",
        "\n",
        "df = pd.DataFrame(data)"
      ],
      "metadata": {
        "id": "De-MEE-6fWip"
      },
      "execution_count": 3,
      "outputs": []
    },
    {
      "cell_type": "code",
      "source": [
        "lats = [-12.0411954 ,-12.0216057 ,25.797809 ,38.176505 ,-12.05963535 ,-12.0782058 ,-11.96637165 ,-12.055924 ,-11.9141137 ,-12.07442605]\n",
        "longs =  [-76.99263863265921 ,-77.05509942443221 ,-100.5616261 ,-0.7983121 ,-77.02236228077756 ,-77.0399864964742 ,-77.05641452313083 ,-77.01569082772036 ,-77.03751289728125 ,-76.95597427784205]\n",
        "camas = [100, 100, 100, 100, 100, 100, 100, 100, 100, 100]\n",
        "\n",
        "df['Latitud'] = lats\n",
        "df['Longitud'] = longs\n",
        "df['Camas'] = camas"
      ],
      "metadata": {
        "id": "6TenJ4L-iaKA"
      },
      "execution_count": 4,
      "outputs": []
    },
    {
      "cell_type": "code",
      "source": [
        "def find_corners(latitudes, longitudes):\n",
        "    min_lat = min(latitudes)\n",
        "    max_lat = max(latitudes)\n",
        "    min_lon = min(longitudes)\n",
        "    max_lon = max(longitudes)\n",
        "\n",
        "    corners = [\n",
        "        (min_lat, min_lon),\n",
        "        (min_lat, max_lon),\n",
        "        (max_lat, max_lon),\n",
        "        (max_lat, min_lon)\n",
        "    ]\n",
        "\n",
        "    return corners\n",
        "\n",
        "corners = find_corners(lats, longs)\n",
        "print(\"Corner points:\", corners)"
      ],
      "metadata": {
        "colab": {
          "base_uri": "https://localhost:8080/"
        },
        "id": "MMzm2Z6Vpj6w",
        "outputId": "81ea2aa4-fe24-460c-9890-0f89bf9fac6d"
      },
      "execution_count": 5,
      "outputs": [
        {
          "output_type": "stream",
          "name": "stdout",
          "text": [
            "Corner points: [(-12.0782058, -100.5616261), (-12.0782058, -0.7983121), (38.176505, -0.7983121), (38.176505, -100.5616261)]\n"
          ]
        }
      ]
    },
    {
      "cell_type": "code",
      "execution_count": 14,
      "metadata": {
        "id": "9WcHl49qZ0a4"
      },
      "outputs": [],
      "source": [
        "def generate_cases(pos1, pos2, n):\n",
        "    cases = []\n",
        "\n",
        "    # Conseguimos la latitud y longitud de 2 puntos delimitorios del área\n",
        "    lat1, lon1 = pos1\n",
        "    lat2, lon2 = pos2\n",
        "\n",
        "    # Definimos el rango de la latitud y longitud\n",
        "    lat_range = max(lat1, lat2) - min(lat1, lat2)\n",
        "    lon_range = max(lon1, lon2) - min(lon1, lon2)\n",
        "\n",
        "    for _ in range(n):\n",
        "        lat = random.uniform(min(lat1, lat2), max(lat1, lat2))\n",
        "        lon = random.uniform(min(lon1, lon2), max(lon1, lon2))\n",
        "\n",
        "        # Definimos una severidad entre 1 y 4\n",
        "        severity = random.randint(1, 4)\n",
        "        cases.append({'Latitud': lat, 'Longitud': lon, 'Severidad': severity})\n",
        "    return cases"
      ]
    },
    {
      "cell_type": "code",
      "source": [
        "pos1 = (-11.894451, -76.967502)  # Bottom-left corner\n",
        "pos2 = (-12.097977, -77.081000)  # Top-right corner\n",
        "\n",
        "n = 1000                                  # Cantidad de casos\n",
        "cases = generate_cases(pos1, pos2, n)\n",
        "patients = pd.DataFrame(cases)"
      ],
      "metadata": {
        "id": "8DEUWZgeaqum"
      },
      "execution_count": 15,
      "outputs": []
    },
    {
      "cell_type": "code",
      "source": [
        "def solve_hospital_assignment(hosp_data, pat_data):\n",
        "    nHosp = len(hosp_data)\n",
        "    nPats = len(pat_data)\n",
        "    max_beds = hosp_data['Camas'].tolist()\n",
        "    hospital_coords = list(zip(hosp_data['Latitud'], hosp_data['Longitud']))\n",
        "    patient_coords = list(zip(pat_data['Latitud'], pat_data['Longitud']))\n",
        "    severities = pat_data['Severidad'].tolist()\n",
        "\n",
        "    model = cp_model.CpModel()\n",
        "\n",
        "    # Decision variables\n",
        "    assignment = np.array([[model.NewBoolVar(f'x_{i}_{j}') for j in range(nPats)] for i in range(nHosp)])\n",
        "\n",
        "    # Constraints\n",
        "    for i in range(nHosp):\n",
        "        model.Add(sum(assignment[i]) <= max_beds[i])  # Each hospital has beds constraint\n",
        "\n",
        "    for j in range(nPats):\n",
        "        model.Add(sum(assignment[:, j]) == 1)  # Each patient is assigned to exactly one bed\n",
        "\n",
        "    # Objective function\n",
        "    total_distance = sum(\n",
        "    sum(assignment[i][j] * np.linalg.norm(np.array(hospital_coords[i]) - np.array(patient_coords[j])) for j in range(nPats))\n",
        "    for i in range(nHosp)\n",
        "    )\n",
        "\n",
        "\n",
        "    total_severity = sum(\n",
        "        cp_model.LinearExpr.WeightedSum(assignment[i], [severities[j] for j in range(nPats)])\n",
        "        for i in range(nHosp)\n",
        "    )\n",
        "\n",
        "    model.Minimize(total_distance + total_severity)\n",
        "\n",
        "    # Solve the problem\n",
        "    solver = cp_model.CpSolver()\n",
        "    status = solver.Solve(model)\n",
        "\n",
        "    if status == cp_model.OPTIMAL:\n",
        "        assignments = {\n",
        "            f'Hospital_{i}': [j for j in range(nPats) if solver.Value(assignment[i, j])]\n",
        "            for i in range(nHosp)\n",
        "        }\n",
        "        return assignments\n",
        "    else:\n",
        "        return None"
      ],
      "metadata": {
        "id": "O0qsx0Xqtluc"
      },
      "execution_count": 8,
      "outputs": []
    },
    {
      "cell_type": "code",
      "source": [
        "solution = solve_hospital_assignment(df, patients)"
      ],
      "metadata": {
        "id": "qkXExv6Zv27-"
      },
      "execution_count": 20,
      "outputs": []
    },
    {
      "cell_type": "code",
      "source": [
        "import folium\n",
        "import random\n",
        "\n",
        "# Crear mapa centrado en la primera ubicación de los hospitales\n",
        "mapa = folium.Map(location=[lats[0], longs[0]], zoom_start=12)\n",
        "\n",
        "# Iterar sobre las listas de latitudes y longitudes de los hospitales y agregar marcadores al mapa\n",
        "for lat, long in zip(lats, longs):\n",
        "    folium.Marker(location=[lat, long], popup='Hospital', icon=folium.Icon(color='blue', icon='hospital')).add_to(mapa)\n",
        "\n",
        "# Generar 1000 ubicaciones aleatorias con severidades y agregar marcadores al mapa\n",
        "for i in range(n):\n",
        "    latitud = cases[i]['Latitud']\n",
        "    longitud = cases[i]['Longitud']\n",
        "    severidad = cases[i]['Severidad']\n",
        "\n",
        "    if severidad == 1:\n",
        "        color = 'green'\n",
        "    elif severidad == 2:\n",
        "        color = 'yellow'\n",
        "    elif severidad == 3:\n",
        "        color = 'orange'\n",
        "    else:\n",
        "        color = 'red'\n",
        "\n",
        "    # Agregar marcador de paciente al mapa con el color correspondiente\n",
        "    folium.Marker(location=[latitud, longitud], icon=folium.Icon(color=color, icon_size=(2, 2)), popup=f'Severidad: {severidad}').add_to(mapa)\n",
        "\n",
        "# Guardar el mapa como un archivo HTML\n",
        "mapa.save('mapa_hospitales_y_severidades.html')\n"
      ],
      "metadata": {
        "id": "pxkNuShDVXqk",
        "colab": {
          "base_uri": "https://localhost:8080/"
        },
        "outputId": "f72238f6-981b-42af-dbc1-c5ab29a420c7"
      },
      "execution_count": 19,
      "outputs": [
        {
          "output_type": "stream",
          "name": "stderr",
          "text": [
            "<ipython-input-19-8a57d697e342>:27: UserWarning: color argument of Icon should be one of: {'darkpurple', 'purple', 'pink', 'lightgray', 'red', 'darkred', 'darkblue', 'black', 'lightblue', 'gray', 'blue', 'lightred', 'green', 'lightgreen', 'darkgreen', 'beige', 'white', 'cadetblue', 'orange'}.\n",
            "  folium.Marker(location=[latitud, longitud], icon=folium.Icon(color=color, icon_size=(2, 2)), popup=f'Severidad: {severidad}').add_to(mapa)\n"
          ]
        }
      ]
    }
  ]
}