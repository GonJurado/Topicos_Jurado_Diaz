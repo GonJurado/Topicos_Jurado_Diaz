{
  "cells": [
    {
      "cell_type": "code",
      "execution_count": null,
      "metadata": {
        "id": "ORm5FO4Q8vB2"
      },
      "outputs": [],
      "source": [
        "!pip install ortools"
      ]
    },
    {
      "cell_type": "code",
      "source": [
        "import random\n",
        "from ortools.sat.python import cp_model\n",
        "\n",
        "def generate_valid_path(size):\n",
        "    path = []\n",
        "    directions = [(-1, 0), (1, 0), (0, -1), (0, 1), (-1, -1), (-1, 1), (1, -1), (1, 1)]\n",
        "    current = (random.randint(0, size-1), random.randint(0, size-1))\n",
        "    path.append(current)\n",
        "    used = set(path)\n",
        "\n",
        "    while len(path) < size * size:\n",
        "        possible_moves = [(current[0] + dx, current[1] + dy) for dx, dy in directions\n",
        "                          if 0 <= current[0] + dx < size and 0 <= current[1] + dy < size\n",
        "                          and (current[0] + dx, current[1] + dy) not in used]\n",
        "        if not possible_moves:\n",
        "            path, used = [], set()\n",
        "            current = (random.randint(0, size-1), random.randint(0, size-1))\n",
        "            path.append(current)\n",
        "            used.add(current)\n",
        "        else:\n",
        "            current = random.choice(possible_moves)\n",
        "            path.append(current)\n",
        "            used.add(current)\n",
        "    return path\n",
        "\n",
        "def solve_rikudo_puzzle(size, path):\n",
        "    model = cp_model.CpModel()\n",
        "\n",
        "    # Create variables for each grid position\n",
        "    grid = {}\n",
        "    for i, pos in enumerate(path):\n",
        "        grid[pos] = model.NewIntVar(1, size * size, f'cell_{pos}')\n",
        "\n",
        "    # Ensure the sequence is correct\n",
        "    for i in range(1, len(path)):\n",
        "        model.Add(grid[path[i]] == grid[path[i-1]] + 1)\n",
        "\n",
        "    # Create a solver and solve the model\n",
        "    solver = cp_model.CpSolver()\n",
        "    status = solver.Solve(model)\n",
        "\n",
        "    if status == cp_model.FEASIBLE or status == cp_model.OPTIMAL:\n",
        "        solution_grid = [[0] * size for _ in range(size)]\n",
        "        for pos, var in grid.items():\n",
        "            solution_grid[pos[0]][pos[1]] = solver.Value(var)\n",
        "        return solution_grid\n",
        "    else:\n",
        "        return None\n",
        "\n",
        "# Example usage\n",
        "size = 6\n",
        "random_path = generate_valid_path(size)\n",
        "solution = solve_rikudo_puzzle(size, random_path)\n",
        "if solution:\n",
        "    for row in solution:\n",
        "        print(' '.join(f\"{val:2d}\" for val in row))\n",
        "else:\n",
        "    print(\"No solution found.\")\n"
      ],
      "metadata": {
        "colab": {
          "base_uri": "https://localhost:8080/"
        },
        "id": "TX0PQkmWY0SI",
        "outputId": "0db909d6-0f9a-48e0-92aa-8027e7504ef3"
      },
      "execution_count": 198,
      "outputs": [
        {
          "output_type": "stream",
          "name": "stdout",
          "text": [
            "12 11 10  8  7  6\n",
            "13 14  9 27  4  5\n",
            "15 16 28 26  3  2\n",
            "17 24 25 29  1 31\n",
            "23 18 20 35 30 32\n",
            "22 21 19 36 34 33\n"
          ]
        }
      ]
    }
  ],
  "metadata": {
    "colab": {
      "provenance": []
    },
    "kernelspec": {
      "display_name": "Python 3",
      "name": "python3"
    },
    "language_info": {
      "name": "python"
    }
  },
  "nbformat": 4,
  "nbformat_minor": 0
}