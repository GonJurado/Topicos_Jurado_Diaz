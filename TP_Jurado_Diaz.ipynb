{
  "cells": [
    {
      "cell_type": "code",
      "execution_count": null,
      "metadata": {
        "id": "ORm5FO4Q8vB2"
      },
      "outputs": [],
      "source": [
        "!pip install ortools"
      ]
    },
    {
      "cell_type": "code",
      "execution_count": 72,
      "metadata": {
        "id": "tSZxGQVme9As",
        "colab": {
          "base_uri": "https://localhost:8080/"
        },
        "outputId": "99e14c3e-fea2-4ed4-8e7b-50457a5df062"
      },
      "outputs": [
        {
          "output_type": "stream",
          "name": "stdout",
          "text": [
            "No se encontró solución.\n"
          ]
        }
      ],
      "source": [
        "from ortools.sat.python import cp_model\n",
        "\n",
        "def create_rikudo_solver(initial_board):\n",
        "    model = cp_model.CpModel()\n",
        "\n",
        "    # Dimensiones del tablero\n",
        "    size = len(initial_board)\n",
        "\n",
        "    # Definir variables\n",
        "    board_vars = [[model.NewIntVar(1, size**2, f'board_{i}_{j}') for j in range(size)] for i in range(size)]\n",
        "\n",
        "    # Fijar valores iniciales\n",
        "    for i in range(size):\n",
        "        for j in range(size):\n",
        "            if initial_board[i][j] != 0:\n",
        "                model.Add(board_vars[i][j] == initial_board[i][j])\n",
        "\n",
        "    # Definir restricciones\n",
        "    for i in range(size):\n",
        "        for j in range(size):\n",
        "            value = board_vars[i][j]\n",
        "            neighbors = []\n",
        "            if i > 0:\n",
        "                neighbors.append(board_vars[i-1][j])\n",
        "            if j > 0:\n",
        "                neighbors.append(board_vars[i][j-1])\n",
        "            if i < size - 1:\n",
        "                neighbors.append(board_vars[i+1][j])\n",
        "            if j < size - 1:\n",
        "                neighbors.append(board_vars[i][j+1])\n",
        "            model.AddAllDifferent(neighbors)\n",
        "\n",
        "    # Crear solver\n",
        "    solver = cp_model.CpSolver()\n",
        "\n",
        "    return model, solver, board_vars\n",
        "\n",
        "def solve_rikudo(initial_board):\n",
        "    model, solver, board_vars = create_rikudo_solver(initial_board)\n",
        "    status = solver.Solve(model)\n",
        "\n",
        "    solution = []\n",
        "    if status == cp_model.FEASIBLE:\n",
        "        for i in range(len(board_vars)):\n",
        "            row = []\n",
        "            for j in range(len(board_vars[i])):\n",
        "                row.append(solver.Value(board_vars[i][j]))\n",
        "            solution.append(row)\n",
        "    return solution\n",
        "\n",
        "# Ejemplo de uso\n",
        "initial_board = [\n",
        "    [0, 0, 0, 0, 0, 0],\n",
        "    [0, 0, 0, 0, 0, 0],\n",
        "    [0, 0, 0, 0, 0, 0],\n",
        "    [0, 0, 0, 0, 0, 0],\n",
        "    [0, 0, 0, 0, 0, 0],\n",
        "    [0, 0, 0, 0, 0, 0]\n",
        "]\n",
        "\n",
        "solution = solve_rikudo(initial_board)\n",
        "if solution:\n",
        "    print(\"Solución encontrada:\")\n",
        "    for row in solution:\n",
        "        print(row)\n",
        "else:\n",
        "    print(\"No se encontró solución.\")"
      ]
    }
  ],
  "metadata": {
    "colab": {
      "provenance": []
    },
    "kernelspec": {
      "display_name": "Python 3",
      "name": "python3"
    },
    "language_info": {
      "name": "python"
    }
  },
  "nbformat": 4,
  "nbformat_minor": 0
}