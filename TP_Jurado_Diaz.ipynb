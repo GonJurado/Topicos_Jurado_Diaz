{
  "cells": [
    {
      "cell_type": "code",
      "execution_count": null,
      "metadata": {
        "id": "ORm5FO4Q8vB2"
      },
      "outputs": [],
      "source": [
        "!pip install ortools"
      ]
    },
    {
      "cell_type": "code",
      "source": [
        "import random\n",
        "from ortools.sat.python import cp_model\n",
        "\n",
        "def generate_valid_path(size):\n",
        "    path = []\n",
        "    directions = [(-1, 0), (1, 0), (0, -1), (0, 1), (-1, -1), (-1, 1), (1, -1), (1, 1)]\n",
        "\n",
        "    # Randomly select a position for the fixed spot\n",
        "    fixed_spot = (random.randint(0, size-1), random.randint(0, size-1))\n",
        "\n",
        "    # Fill the fixed spot with a number between 1 and size*size\n",
        "    fixed_number = random.randint(1, size * size)\n",
        "\n",
        "    # Add the fixed spot to the used set\n",
        "    used = set([fixed_spot])\n",
        "\n",
        "    # Create a grid and fill it with 0s\n",
        "    grid = {}\n",
        "    for i in range(size):\n",
        "        for j in range(size):\n",
        "            grid[(i, j)] = 0\n",
        "\n",
        "    # Set the fixed spot with the selected number\n",
        "    grid[fixed_spot] = fixed_number\n",
        "\n",
        "    # Print the initial board state\n",
        "    print(\"Initial Board:\")\n",
        "    for i in range(size):\n",
        "        for j in range(size):\n",
        "            print(grid[(i, j)], end=\" \")\n",
        "        print()\n",
        "\n",
        "    if fixed_number == 1:\n",
        "        path.append(fixed_spot)\n",
        "\n",
        "    while len(path) < size * size:\n",
        "        current = path[-1] if path else fixed_spot\n",
        "        possible_moves = [(current[0] + dx, current[1] + dy) for dx, dy in directions\n",
        "                          if 0 <= current[0] + dx < size and 0 <= current[1] + dy < size\n",
        "                          and (current[0] + dx, current[1] + dy) not in used]\n",
        "\n",
        "        # Exclude the fixed spot's number from possible numbers\n",
        "        possible_numbers = set(range(1, size * size + 1)) - {fixed_number}\n",
        "\n",
        "        if not possible_moves:\n",
        "            path, used = [], set()\n",
        "        else:\n",
        "            current = random.choice(possible_moves)\n",
        "            path.append(current)\n",
        "            used.add(current)\n",
        "\n",
        "    # Modify the grid to set the fixed spot's value to 0\n",
        "    grid[fixed_spot] = 0\n",
        "\n",
        "    return path, fixed_spot, fixed_number\n",
        "\n",
        "def solve_rikudo_puzzle(size, path, fixed_spot, fixed_number):\n",
        "    model = cp_model.CpModel()\n",
        "\n",
        "    # Create variables for each grid position\n",
        "    grid = {}\n",
        "    for i, pos in enumerate(path):\n",
        "        grid[pos] = model.NewIntVar(1, size * size, f'cell_{pos}')\n",
        "\n",
        "    # Ensure the sequence is correct\n",
        "    for i in range(1, len(path)):\n",
        "        model.Add(grid[path[i]] == grid[path[i-1]] + 1)\n",
        "\n",
        "    # Set the fixed spot with the fixed number\n",
        "    grid[fixed_spot] = fixed_number\n",
        "\n",
        "    # Create a solver and solve the model\n",
        "    solver = cp_model.CpSolver()\n",
        "    status = solver.Solve(model)\n",
        "\n",
        "    if status == cp_model.FEASIBLE or status == cp_model.OPTIMAL:\n",
        "        solution_grid = [[0] * size for _ in range(size)]\n",
        "        for pos, var in grid.items():\n",
        "            solution_grid[pos[0]][pos[1]] = solver.Value(var)\n",
        "        return solution_grid\n",
        "    else:\n",
        "        return None\n",
        "\n",
        "# Example usage\n",
        "size = 6\n",
        "random_path, fixed_spot, fixed_number = generate_valid_path(size)\n",
        "solution = solve_rikudo_puzzle(size, random_path, fixed_spot, fixed_number)\n",
        "if solution:\n",
        "    print(\"\\nSolution:\")\n",
        "    for row in solution:\n",
        "        print(' '.join(f\"{val:2d}\" for val in row))\n",
        "else:\n",
        "    print(\"No solution found.\")"
      ],
      "metadata": {
        "colab": {
          "base_uri": "https://localhost:8080/"
        },
        "id": "TX0PQkmWY0SI",
        "outputId": "6d54a0ef-200e-46ae-9aef-4a7080861601"
      },
      "execution_count": 98,
      "outputs": [
        {
          "output_type": "stream",
          "name": "stdout",
          "text": [
            "Initial Board:\n",
            "0 0 0 0 0 0 \n",
            "0 0 0 0 0 0 \n",
            "0 0 0 0 0 0 \n",
            "0 0 0 0 0 0 \n",
            "0 0 0 0 0 0 \n",
            "0 0 0 0 7 0 \n",
            "\n",
            "Solution:\n",
            "12 11 10 34 35 36\n",
            "13  8  9 33 30 29\n",
            "14 15  7 32 31 28\n",
            "16  4  5  6 27 25\n",
            "17  3 20 21 26 24\n",
            "18 19  2  1  7 23\n"
          ]
        }
      ]
    }
  ],
  "metadata": {
    "colab": {
      "provenance": []
    },
    "kernelspec": {
      "display_name": "Python 3",
      "name": "python3"
    },
    "language_info": {
      "name": "python"
    }
  },
  "nbformat": 4,
  "nbformat_minor": 0
}